{
 "cells": [
  {
   "cell_type": "code",
   "execution_count": 2,
   "id": "21128e27-8557-41c1-9fbb-48dcdad2d686",
   "metadata": {},
   "outputs": [
    {
     "name": "stdout",
     "output_type": "stream",
     "text": [
      "LOL\n"
     ]
    }
   ],
   "source": [
    "Console.WriteLine(\"LOL\")"
   ]
  },
  {
   "cell_type": "code",
   "execution_count": null,
   "id": "ca9e8012-a205-4772-99fa-975dda450888",
   "metadata": {},
   "outputs": [],
   "source": []
  }
 ],
 "metadata": {
  "kernelspec": {
   "display_name": ".NET (C#)",
   "language": "C#",
   "name": ".net-csharp"
  },
  "language_info": {
   "file_extension": ".cs",
   "mimetype": "text/x-csharp",
   "name": "C#",
   "pygments_lexer": "csharp",
   "version": "8.0"
  }
 },
 "nbformat": 4,
 "nbformat_minor": 5
}
